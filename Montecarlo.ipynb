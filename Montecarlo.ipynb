{
 "cells": [
  {
   "cell_type": "markdown",
   "id": "24cc32d2-8d71-4403-81b1-2958608292d7",
   "metadata": {},
   "source": [
    "# **Montecarlo**\n",
    "----\n",
    "\n",
    "## Goals of this notebook:\n",
    "\n",
    "1. Make sure that the most basic environment (HitStand) properly works.\n",
    "2. Deploy main plotting utilities.\n",
    "3. Execute a simple experiment to make sure that my hand-made Montecarlo-based algorithms (both for prediction and control) are mistake proof.\n",
    "4. Define methods to accelerate multiple episode executions in later notebooks.\n",
    "5. Showcase agents' common efficiency-oriented capabilities (e.g.: Q/V-table storage and agent storage).\n",
    "\n",
    "\n",
    "### Library imports\n",
    "\n",
    "#### 1. RL libraries"
   ]
  },
  {
   "cell_type": "code",
   "execution_count": 3,
   "id": "d26b02c8-84fc-4563-94bd-7bd8b7ceb9d8",
   "metadata": {},
   "outputs": [],
   "source": [
    "import environments\n",
    "from agents.agents import MonteCarloPredictor, MontecarloController, OffPolicyMontecarlo"
   ]
  },
  {
   "cell_type": "markdown",
   "id": "ec7d4d35-3d33-40d1-a921-d1861f62f69c",
   "metadata": {},
   "source": [
    "#### 2. Data aggregation and matrix operation libraries:"
   ]
  },
  {
   "cell_type": "code",
   "execution_count": 4,
   "id": "865c59cf-1cf2-414f-9e22-46b36116b599",
   "metadata": {},
   "outputs": [],
   "source": [
    "import numpy as np\n",
    "import pandas as pd"
   ]
  },
  {
   "cell_type": "markdown",
   "id": "a436f118-3f8f-4b7e-abfe-03f5fadc6f81",
   "metadata": {},
   "source": []
  }
 ],
 "metadata": {
  "kernelspec": {
   "display_name": "Python 3",
   "language": "python",
   "name": "python3"
  },
  "language_info": {
   "codemirror_mode": {
    "name": "ipython",
    "version": 3
   },
   "file_extension": ".py",
   "mimetype": "text/x-python",
   "name": "python",
   "nbconvert_exporter": "python",
   "pygments_lexer": "ipython3",
   "version": "3.9.2"
  }
 },
 "nbformat": 4,
 "nbformat_minor": 5
}
