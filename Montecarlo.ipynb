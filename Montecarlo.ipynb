{
 "cells": [
  {
   "cell_type": "markdown",
   "id": "diverse-mainland",
   "metadata": {},
   "source": [
    "# **Montecarlo**\n",
    "----\n",
    "\n",
    "## Goals of this notebook:\n",
    "\n",
    "1. Make sure that the most basic environment (HitStand) properly works.\n",
    "2. Deploy main plotting utilities.\n",
    "3. Execute a simple experiment to make sure that my hand-made Montecarlo-based algorithms (for both prediction and control) are mistake proof.\n",
    "4. Define methods to accelerate multiple episode executions in later notebooks.\n",
    "5. Showcase agents' common efficiency-oriented capabilities (e.g.: Q/V-table storage and agent storage).\n",
    "\n",
    "---\n",
    "## Library imports\n",
    "\n",
    "#### 1. RL libraries:"
   ]
  },
  {
   "cell_type": "code",
   "execution_count": 3,
   "id": "capable-private",
   "metadata": {},
   "outputs": [],
   "source": [
    "import environments\n",
    "from agents.agents import MonteCarloPredictor, MontecarloController, OffPolicyMontecarlo"
   ]
  },
  {
   "cell_type": "markdown",
   "id": "increased-andrews",
   "metadata": {},
   "source": [
    "#### 2. Data aggregation and matrix operation libraries:"
   ]
  },
  {
   "cell_type": "code",
   "execution_count": 25,
   "id": "wrapped-privilege",
   "metadata": {},
   "outputs": [],
   "source": [
    "import numpy as np\n",
    "import pandas as pd\n",
    "from sklearn.preprocessing import StandardScaler"
   ]
  },
  {
   "cell_type": "markdown",
   "id": "everyday-church",
   "metadata": {},
   "source": [
    "#### 3. Plotting libraries:"
   ]
  },
  {
   "cell_type": "code",
   "execution_count": 29,
   "id": "selected-musician",
   "metadata": {},
   "outputs": [],
   "source": [
    "import matplotlib.pyplot as plt\n",
    "import matplotlib.cm as cm\n",
    "from matplotlib.colors import ListedColormap, BoundaryNorm\n",
    "from matplotlib.ticker import FormatStrFormatter, ScalarFormatter, FuncFormatter\n",
    "import seaborn as sns\n",
    "# Commands to tweak notebook layout:\n",
    "from sys import maxsize\n",
    "np.set_printoptions(threshold=maxsize)\n",
    "plt.style.use('seaborn-pastel')"
   ]
  },
  {
   "cell_type": "markdown",
   "id": "korean-prior",
   "metadata": {},
   "source": [
    "#### 4. Statistical analysis tools:"
   ]
  },
  {
   "cell_type": "code",
   "execution_count": 6,
   "id": "novel-ribbon",
   "metadata": {},
   "outputs": [],
   "source": [
    "from statsmodels.tsa.stattools import adfuller\n",
    "from scipy.stats import normaltest, anderson, t, kstest"
   ]
  },
  {
   "cell_type": "markdown",
   "id": "whole-behalf",
   "metadata": {},
   "source": [
    "----\n",
    "\n",
    "## Common plotting utilities:\n",
    "\n",
    "#### Average reward time series:"
   ]
  },
  {
   "cell_type": "code",
   "execution_count": 26,
   "id": "8102f0c6-3086-4a60-8e8c-3d15d408435f",
   "metadata": {},
   "outputs": [],
   "source": [
    "def plot_reward_time_series(X,Y):\n",
    "    \"\"\"\n",
    "    X: a range of numbers starting from the sample size number to the total number of episode + 1\n",
    "       (to make it inclusive) and incrementing by sample size steps.\n",
    "    Y: average rewards\n",
    "    \n",
    "    returns: the plot container instance\n",
    "    \"\"\"\n",
    "    # domain redefinition to adjust how many x-ticks are displayed dinamically (more episodes => more x-ticks)\n",
    "    max_domain = X[-1]\n",
    "    domain = np.arange(X[0], max_domain + X[0] * 100, X[0] * 100)\n",
    "    \n",
    "    fig = plt.figure(figsize=(20,10))\n",
    "    \n",
    "    style_dict = {'xlim': (0, max_domain),\n",
    "                  'xticks': domain,\n",
    "                  'xticklabels': domain,\n",
    "                  'xlabel': 'Episodes',\n",
    "                  'ylim': (-1, 1),\n",
    "                  'yticks': np.arange(-1, 1.1, 0.05),\n",
    "                  'yticklabels': np.arange(-1, 1.1, 0.05),\n",
    "                  'title': 'Average reward over last {0} episodes'.format(str(X[0]))\n",
    "                 }\n",
    "    \n",
    "    ax = fig.add_subplot(1,1,1, **style_dict)\n",
    "    ax.grid()\n",
    "    #Axis formatters:\n",
    "    formatter = ScalarFormatter()\n",
    "    #Scientific value display when the total number of episodes is over 1M:\n",
    "    formatter.set_scientific(True)\n",
    "    ax.xaxis.set_major_formatter(formatter)\n",
    "    ax.yaxis.set_major_formatter(FormatStrFormatter('% 1.2f'))\n",
    "    # in and out of the money border:\n",
    "    ax.plot(domain.ravel(), np.zeros_like(domain).ravel(), color='red')\n",
    "    \n",
    "    ax.plot(X,Y)\n",
    "    return ax"
   ]
  },
  {
   "cell_type": "markdown",
   "id": "57dbff76-1d8b-4623-8cbe-2e8e30d7314f",
   "metadata": {},
   "source": [
    "#### Value Function:"
   ]
  },
  {
   "cell_type": "code",
   "execution_count": 30,
   "id": "a6bdd582-bbe7-473b-92dd-9bb42961a866",
   "metadata": {},
   "outputs": [],
   "source": [
    "def plot_v_func(table, title):\n",
    "    \"\"\"\n",
    "    table: agent's V-table (if agents has a Q-table, that must be transformed before being passed as an argument for this function)\n",
    "    title: str. A title for the plot\n",
    "    \n",
    "    returns: the plot container instance\n",
    "    \"\"\"\n",
    "    X = np.linspace(1,10,10)\n",
    "    Y = np.linspace(12, 20,9)\n",
    "    Xm, Ym = np.meshgrid(X, Y)\n",
    "    \n",
    "    fig = plt.figure(figsize=(20,10))\n",
    "    fig.suptitle(t=title, fontsize=16, x=0.5, y=1.05)\n",
    "    \n",
    "    common_style_dict = {'xlim': (X[0], X[-1]),\n",
    "                        'xticks': X,\n",
    "                        'xticklabels': ['{:.0f}'.format(value) for value in list(X)[1:]] + ['A'],\n",
    "                        'xlabel': 'Dealer\\'s Card',\n",
    "                        'ylim': (Y[0], Y[-1]),\n",
    "                        'yticks': Y,\n",
    "                        'yticklabels': Y,\n",
    "                         'ylabel': 'Player\\'s Total',\n",
    "                        'zlim': (-1, 1.5),\n",
    "                        'zticks': np.arange(-1, 1.8, 0.2),\n",
    "                        'zticklabels': np.arange(-1, 1.8, 0.2),\n",
    "                        }\n",
    "    \n",
    "    #Not usable ace-related states:\n",
    "    ax = fig.add_subplot(1,2,1, projection='3d', title='No usable Ace', **common_style_dict)\n",
    "    surface_1 = ax.plot_surface(Xm, Ym, table[8:17,:10,0], cmap=plt.get_cmap('bwr'), vmin=-1, vmax=1)\n",
    "    \n",
    "    ax.yaxis.set_major_formatter(FormatStrFormatter('% 1.0f'))\n",
    "    ax.zaxis.set_major_formatter(FormatStrFormatter('% 1.1f'))\n",
    "    ax.view_init(ax.elev, -120)\n",
    "    \n",
    "    #Usable ace-related states:\n",
    "    ax = fig.add_subplot(1,2,2, projection='3d', title=' Usable Ace', **common_style_dict)\n",
    "    surface_2 = ax.plot_surface(Xm, Ym, table[8:17,:10,1], cmap=plt.get_cmap('bwr'), vmin=-1, vmax=1)\n",
    "    \n",
    "    ax.yaxis.set_major_formatter(FormatStrFormatter('% 1.0f'))\n",
    "    ax.zaxis.set_major_formatter(FormatStrFormatter('% 1.1f'))\n",
    "    ax.view_init(ax.elev, -120)\n",
    "    \n",
    "    #Colour bar:\n",
    "    fig.subplots_adjust(right=0.8)\n",
    "    cbar_ax = fig.add_axes([0.85, 0.35, 0.01, 0.5])\n",
    "    fig.colorbar(surface_1,shrink=0.2, aspect=15, cax=cbar_ax)\n",
    "    \n",
    "    return ax"
   ]
  },
  {
   "cell_type": "markdown",
   "id": "f4abe0b8-856a-481a-92dd-c0effa7ed13a",
   "metadata": {},
   "source": [
    "#### Policy:"
   ]
  },
  {
   "cell_type": "code",
   "execution_count": 33,
   "id": "6afd107f-b4fe-4639-9085-fdd84f7519ab",
   "metadata": {
    "tags": []
   },
   "outputs": [],
   "source": [
    "def plot_policy(table, title):\n",
    "    \"\"\"\n",
    "    table: matrix containing action indexes (it must be n-1 dimensions with respect to the agent's Q-table)\n",
    "    title: str. A title for the plot\n",
    "    \n",
    "    returns: the plot container instance\n",
    "    \"\"\"\n",
    "    #tick label transformer (used for the colour bar):\n",
    "    def format_tick(x, pos):\n",
    "        if x == 0:\n",
    "            return '{0}-STAND'.format(str(x))\n",
    "        elif x == 1:\n",
    "            return '{0}-HIT'.format(str(x))\n",
    "    \n",
    "    X = np.arange(-.5,9.5,1)\n",
    "    Y = np.arange(0.5, 11.5,1)\n",
    "    \n",
    "    fig = plt.figure(figsize=(20,10))\n",
    "    fig.suptitle(t=title, fontsize=16, x=0.5, y=1.05)\n",
    "    \n",
    "    common_style_dict = {'xlim': (-.5, 9.5),\n",
    "                        'xticks': X,\n",
    "                        'xticklabels': ['{:.0f}'.format(value) for value in range(2,11,1)] + ['A'],\n",
    "                        'xlabel': 'Dealer\\'s Card',\n",
    "                        'yticks': Y,\n",
    "                        'yticklabels': np.arange(11,22,1),\n",
    "                        'ylabel': 'Player\\'s Total'\n",
    "                        }\n",
    "    \n",
    "    #Not usable ace-related states:\n",
    "    ax = fig.add_subplot(1,2,1, title='No usable Ace', **common_style_dict)\n",
    "    im = ax.imshow(table[7:18,:10,0], cmap=plt.get_cmap('bwr'), vmin=0, vmax=1, alpha=0.5)\n",
    "    ax.invert_yaxis()\n",
    "    ax.grid(True,color='w', linestyle='-', linewidth=1, axis='both')\n",
    "    ##Little tweak for tick labels' position:\n",
    "    for label in ax.get_xticklabels():\n",
    "        label.set_horizontalalignment('left')\n",
    "\n",
    "    for label in ax.get_yticklabels():\n",
    "        label.set_verticalalignment('top')\n",
    "    \n",
    "    #Usable ace-related states:\n",
    "    ax = fig.add_subplot(1,2,2, title=' Usable Ace', **common_style_dict)\n",
    "    ax.imshow(table[7:18,:10,1],cmap=plt.get_cmap('bwr'), vmin=0, vmax=1, alpha=0.5)\n",
    "    ax.invert_yaxis()\n",
    "    ax.grid(True,color='w', linestyle='-', linewidth=1, axis='both')\n",
    "    ##Little tweak for tick labels' position:\n",
    "    for label in ax.get_xticklabels():\n",
    "        label.set_horizontalalignment('left')\n",
    "    \n",
    "    #Colour bar definition\n",
    "    fig.subplots_adjust(right=0.8)\n",
    "    original_cmap = plt.get_cmap('bwr')\n",
    "    \n",
    "    #Converting a multiple-colour cmap into 2-colour cmap\n",
    "    cmap = ListedColormap([original_cmap(0), original_cmap(original_cmap.N)])\n",
    "    bounds = [0, 0.5, 1]\n",
    "    norm = BoundaryNorm(bounds, original_cmap.N)    \n",
    "    cbar_ax = fig.add_axes([0.85, 0.05, 0.01, 0.85])\n",
    "    \n",
    "    fig.colorbar(cm.ScalarMappable(cmap=cmap, norm=norm),\n",
    "                 shrink=0.2,\n",
    "                 aspect=15,\n",
    "                 cax=cbar_ax,\n",
    "                 boundaries= [0] + bounds + [2],  \n",
    "                 extend='both',\n",
    "                 ticks=[0,1],\n",
    "                 format = FuncFormatter(format_tick),\n",
    "                 spacing='proportional',\n",
    "                 orientation='vertical',\n",
    "                 alpha= 0.5)\n",
    "    \n",
    "    return ax"
   ]
  },
  {
   "cell_type": "markdown",
   "id": "20b75bc9-783e-44fa-91b9-05b21942e549",
   "metadata": {},
   "source": [
    "---\n",
    "\n",
    "## Statistical functions:\n",
    "\n",
    "I use an **alpha value of 5%** for any statistical test executed in this project"
   ]
  },
  {
   "cell_type": "code",
   "execution_count": 8,
   "id": "841b5e72-b7dc-41ca-8dd0-cb0c594c2943",
   "metadata": {},
   "outputs": [],
   "source": [
    "CONFIDENCE_STRING_FORMAT = '5%'\n",
    "CONFIDENCE = 0.05"
   ]
  },
  {
   "cell_type": "code",
   "execution_count": 31,
   "id": "ed6b0c04-c0cc-4f93-9836-28646327d9ff",
   "metadata": {},
   "outputs": [],
   "source": [
    "def dickey_fuller(time_series, confidence=CONFIDENCE_STRING_FORMAT):\n",
    "    fuller_results = adfuller(results)\n",
    "    if fuller_results[0] < fuller_results[4][confidence]:\n",
    "        return 'Null hypothesis can be rejected. The series is stationary.'\n",
    "    else:\n",
    "        return 'Null hypothesis cannot be rejected. The series is not stationary'"
   ]
  },
  {
   "cell_type": "markdown",
   "id": "divine-control",
   "metadata": {},
   "source": [
    "----\n",
    "\n",
    "## Basic enviroment presentation:"
   ]
  },
  {
   "cell_type": "code",
   "execution_count": 10,
   "id": "encouraging-declaration",
   "metadata": {},
   "outputs": [],
   "source": [
    "# AI gym-like enviroment instance creation:\n",
    "env = environments.make('hitstand')"
   ]
  },
  {
   "cell_type": "code",
   "execution_count": 11,
   "id": "traditional-wheel",
   "metadata": {},
   "outputs": [
    {
     "name": "stdout",
     "output_type": "stream",
     "text": [
      "1. 6 decks (with replacement after each episode)\n",
      "2. Dealer stands on soft 17\n",
      "3. No Double Down\n",
      "4. No split\n",
      "5. No insurance offered\n",
      "6. No surrender\n",
      "7. Natural Blackjack 3:2\n"
     ]
    }
   ],
   "source": [
    "print(env)\n",
    "# Main rules:"
   ]
  },
  {
   "cell_type": "markdown",
   "id": "operational-outline",
   "metadata": {},
   "source": [
    "**Code note**: although natural Blackjack triggers a 3:2 payoff, it will never be computed as Blackjack states entail automatic state transition (the agent receives two cards and just needs to wait for hand resolution).  "
   ]
  },
  {
   "cell_type": "code",
   "execution_count": 12,
   "id": "dress-explosion",
   "metadata": {},
   "outputs": [
    {
     "data": {
      "text/plain": [
       "{-1: 'The House beats Jack',\n",
       " 0: 'Draw/not terminal',\n",
       " 1: 'Jack beats the House',\n",
       " 1.5: 'Blackjack for Jack'}"
      ]
     },
     "execution_count": 12,
     "metadata": {},
     "output_type": "execute_result"
    }
   ],
   "source": [
    "env.reward_space_description"
   ]
  },
  {
   "cell_type": "code",
   "execution_count": 13,
   "id": "optional-calculator",
   "metadata": {},
   "outputs": [
    {
     "data": {
      "text/plain": [
       "{0: \"Player's total\", 1: \"Dealer's card value\", 2: 'Player has got usable ace'}"
      ]
     },
     "execution_count": 13,
     "metadata": {},
     "output_type": "execute_result"
    }
   ],
   "source": [
    "env.observation_space_description\n",
    "# Every observation consists of a 3-element tuple, the description for each element and their positions are:"
   ]
  },
  {
   "cell_type": "markdown",
   "id": "cardiac-scroll",
   "metadata": {},
   "source": [
    "A \"usable ace\" means the ace value is 11, instead of 1."
   ]
  },
  {
   "cell_type": "code",
   "execution_count": 14,
   "id": "south-elephant",
   "metadata": {},
   "outputs": [
    {
     "data": {
      "text/plain": [
       "'Observation space ranges from [4 2 0] to [30 26  1]'"
      ]
     },
     "execution_count": 14,
     "metadata": {},
     "output_type": "execute_result"
    }
   ],
   "source": [
    "'Observation space ranges from {0} to {1}'.format(env.observation_space_low, env.observation_space_high)"
   ]
  },
  {
   "cell_type": "markdown",
   "id": "identified-gathering",
   "metadata": {},
   "source": [
    "**Comments on the observation space definition**:\n",
    "\n",
    "- Lower bounds: Player's total value is bounded from below at 4, as any potential smaller value would imply the use of an ace (and its value is 11 at the start of the hand); Dealer's is bounded from below at 2, as he/she is only handed in one card initially.\n",
    "\n",
    "- Upper bounds: those reach the maximum value a player/dealer might obtain. However, any state that goes over 21 is not computationally taken into account; they are terminal states and final reward is associated to both the last executed action and the state from which transition to terminal state is taking place. Therefore, the Q/V-table values for terminal states remain 0 over the whole experiments.\n",
    "\n",
    "- Player has got usable ace: a binary encoding is used to indicate whether or not the player has got a usable ace (0=False, 1=True).\n",
    "\n",
    "----\n",
    "\n",
    "## Experiment Definition:"
   ]
  },
  {
   "cell_type": "code",
   "execution_count": 15,
   "id": "worst-annex",
   "metadata": {},
   "outputs": [],
   "source": [
    "def run_experiment(environment, agent, episodes, show, save=None, collect_rewards=None, train=True):\n",
    "    \"\"\"\n",
    "    environment: instance of the environment to execute.\n",
    "    agent: instance of the agent that will interact with the environment.\n",
    "    show: integer. It indicates how often episodes are printed as text.\n",
    "    save: integer. It indicates how often the V/Q-table is permanently persisted as a pickle object. None = no persistance at all.\n",
    "    collect_rewards: It indicates every so many episodes rewards are averaged. 1 = return every reward.\n",
    "    train: bool. If True, the agent learns by updating its V/Q-table; if False, the agent just executes a defined policy.\n",
    "    \n",
    "    returns: a list containing all average rewards computed during the whole experiment.\n",
    "    \"\"\"\n",
    "    rewards = []\n",
    "    average_rewards = []\n",
    "    for episode in range(episodes):\n",
    "        if (episode+1) % show ==0:\n",
    "            print('Episode {0}:'.format(episode+1))\n",
    "            env.render()\n",
    "\n",
    "        state, reward, terminal, _ = env.reset()\n",
    "        while not terminal:\n",
    "            action = agent.follow_policy(state)\n",
    "            next_state, reward, terminal, _ = env.step(action)\n",
    "            if train:\n",
    "                agent.evaluate_state(state, reward, terminal, action)   \n",
    "                \n",
    "            state=next_state\n",
    "            \n",
    "        rewards.append(reward)\n",
    "        \n",
    "        if save:\n",
    "            if (episode+1) % save == 0:\n",
    "                agent.save_table()\n",
    "                \n",
    "        if collect_rewards:\n",
    "            if (episode+1) % collect_rewards == 0:\n",
    "                average_reward = sum(rewards[-collect_rewards:])/collect_rewards\n",
    "                average_rewards.append(average_reward)\n",
    "    \n",
    "    return average_rewards"
   ]
  },
  {
   "cell_type": "markdown",
   "id": "noticed-personality",
   "metadata": {},
   "source": [
    "---\n",
    "\n",
    "## Agent Deployments\n",
    "\n",
    "### 1. Montecarlo Prediction:\n",
    "\n",
    "The agent assesses a policy and estimates its value. There is no learning.\n",
    "\n",
    "I use **every visit** Montecarlo. For the problem at hand, there is no difference between first visit and every visit MC, because the likelihood to visit the same state in the same episode is 0%: the agent only retains the same value after obtaining a combination of ace and a card between 2 and 9, then hitting and receiving a 10-point card. However, that triggers a transition from a usable-ace state to a non-usable-ace state.\n",
    "\n",
    "**Code note**: agent classes must be subclassed before instantion, so that the not implemented \"follow_policy\" method is overriden. This is the idea I have come up with to define policies for a given agent, what in turn enforces a 'one-agent-one policy' strategy."
   ]
  },
  {
   "cell_type": "code",
   "execution_count": 28,
   "id": "colored-monaco",
   "metadata": {},
   "outputs": [],
   "source": [
    "class Deterministic(MonteCarloPredictor):\n",
    "    \n",
    "    def follow_policy(self, observation, *args):\n",
    "        #if your cards add up to a number greater than 17, stand; otherwise, hit:\n",
    "        if observation[0] > 17:\n",
    "            return 0\n",
    "        else:\n",
    "            return 1"
   ]
  },
  {
   "cell_type": "code",
   "execution_count": 17,
   "id": "flush-wrestling",
   "metadata": {},
   "outputs": [],
   "source": [
    "deterministic_agent = Deterministic(env)\n",
    "# Environment instance is passed as an argument; it helps define a proper size for V/Q-table based on the environment's features."
   ]
  },
  {
   "cell_type": "code",
   "execution_count": 18,
   "id": "changed-paraguay",
   "metadata": {},
   "outputs": [
    {
     "data": {
      "text/plain": [
       "{'discount_rate': 1, 'learning_rate': None}"
      ]
     },
     "execution_count": 18,
     "metadata": {},
     "output_type": "execute_result"
    }
   ],
   "source": [
    "deterministic_agent.hyperparams\n",
    "# The agent has the following default parameters:"
   ]
  },
  {
   "cell_type": "markdown",
   "id": "equivalent-phoenix",
   "metadata": {},
   "source": [
    "**Code note**:\n",
    "If **learning rate** value is set to None, it means that the learning rate is defined as $\\frac{1}{t}$ (where $t$ is the number of times a state has been visited). It is the default way to push the average towards its true value incrementally and it satisfies the Robbins-Monro conditions:\n",
    "\n",
    "$$\\sum_{t=0}^{\\infty}\\frac{1}{t} = \\infty$$\n",
    "$$\\sum_{t=0}^{\\infty}\\frac{1}{t^2} < \\infty$$\n"
   ]
  },
  {
   "cell_type": "markdown",
   "id": "2fe9ef8b-1026-4bbc-abdc-5b8e36cde788",
   "metadata": {},
   "source": [
    "#### **First experiment following a deterministic policy:**"
   ]
  },
  {
   "cell_type": "code",
   "execution_count": 19,
   "id": "dense-samuel",
   "metadata": {
    "collapsed": true,
    "jupyter": {
     "outputs_hidden": true
    },
    "tags": []
   },
   "outputs": [
    {
     "name": "stdout",
     "output_type": "stream",
     "text": [
      "Episode 1000:\n",
      "Jack:\n",
      "\t-Cards: ['3C', 'KC']\n",
      "\t-Value : 13\n",
      "Dealer:\n",
      "\t-Cards: ['4D']\n",
      "\t-Value : 4\n",
      "Jack decides to: HIT\n",
      "\t-Cards: ['3C', 'KC', '5D']\n",
      "\t-Value : 18\n",
      "Jack decides to: STAND\n",
      "\t-Cards: ['3C', 'KC', '5D']\n",
      "\t-Value : 18\n",
      "Dealer:\n",
      "\t-Cards: ['4D', 'QC', '4H']\n",
      "\t-Value : 18\n",
      "DRAW\n",
      "Episode 2000:\n",
      "Jack:\n",
      "\t-Cards: ['7H', '8H']\n",
      "\t-Value : 15\n",
      "Dealer:\n",
      "\t-Cards: ['QS']\n",
      "\t-Value : 10\n",
      "Jack decides to: HIT\n",
      "\t-Cards: ['7H', '8H', 'JD']\n",
      "\t-Value : 25\n",
      "Dealer:\n",
      "\t-Cards: ['QS']\n",
      "\t-Value : 10\n",
      "THE HOUSE BEATS JACK\n",
      "Episode 3000:\n",
      "Jack:\n",
      "\t-Cards: ['9C', '8C']\n",
      "\t-Value : 17\n",
      "Dealer:\n",
      "\t-Cards: ['10C']\n",
      "\t-Value : 10\n",
      "Jack decides to: HIT\n",
      "\t-Cards: ['9C', '8C', '8H']\n",
      "\t-Value : 25\n",
      "Dealer:\n",
      "\t-Cards: ['10C']\n",
      "\t-Value : 10\n",
      "THE HOUSE BEATS JACK\n",
      "Episode 4000:\n",
      "Jack:\n",
      "\t-Cards: ['10H', 'KC']\n",
      "\t-Value : 20\n",
      "Dealer:\n",
      "\t-Cards: ['KD']\n",
      "\t-Value : 10\n",
      "Jack decides to: STAND\n",
      "\t-Cards: ['10H', 'KC']\n",
      "\t-Value : 20\n",
      "Dealer:\n",
      "\t-Cards: ['KD', '5D', '7C']\n",
      "\t-Value : 22\n",
      "JACK BEATS THE HOUSE\n",
      "Episode 5000:\n",
      "Jack:\n",
      "\t-Cards: ['3D', 'KC']\n",
      "\t-Value : 13\n",
      "Dealer:\n",
      "\t-Cards: ['10H']\n",
      "\t-Value : 10\n",
      "Jack decides to: HIT\n",
      "\t-Cards: ['3D', 'KC', '10D']\n",
      "\t-Value : 23\n",
      "Dealer:\n",
      "\t-Cards: ['10H']\n",
      "\t-Value : 10\n",
      "THE HOUSE BEATS JACK\n",
      "Episode 6000:\n",
      "Jack:\n",
      "\t-Cards: ['3D', '10D']\n",
      "\t-Value : 13\n",
      "Dealer:\n",
      "\t-Cards: ['6S']\n",
      "\t-Value : 6\n",
      "Jack decides to: HIT\n",
      "\t-Cards: ['3D', '10D', '7D']\n",
      "\t-Value : 20\n",
      "Jack decides to: STAND\n",
      "\t-Cards: ['3D', '10D', '7D']\n",
      "\t-Value : 20\n",
      "Dealer:\n",
      "\t-Cards: ['6S', '10D', '7S']\n",
      "\t-Value : 23\n",
      "JACK BEATS THE HOUSE\n",
      "Episode 7000:\n",
      "Jack:\n",
      "\t-Cards: ['7S', '10S']\n",
      "\t-Value : 17\n",
      "Dealer:\n",
      "\t-Cards: ['6D']\n",
      "\t-Value : 6\n",
      "Jack decides to: HIT\n",
      "\t-Cards: ['7S', '10S', '3S']\n",
      "\t-Value : 20\n",
      "Jack decides to: STAND\n",
      "\t-Cards: ['7S', '10S', '3S']\n",
      "\t-Value : 20\n",
      "Dealer:\n",
      "\t-Cards: ['6D', '8S', '7D']\n",
      "\t-Value : 21\n",
      "THE HOUSE BEATS JACK\n",
      "Episode 8000:\n",
      "Jack:\n",
      "\t-Cards: ['6H', '9C']\n",
      "\t-Value : 15\n",
      "Dealer:\n",
      "\t-Cards: ['10C']\n",
      "\t-Value : 10\n",
      "Jack decides to: HIT\n",
      "\t-Cards: ['6H', '9C', '7H']\n",
      "\t-Value : 22\n",
      "Dealer:\n",
      "\t-Cards: ['10C']\n",
      "\t-Value : 10\n",
      "THE HOUSE BEATS JACK\n",
      "Episode 9000:\n",
      "Jack:\n",
      "\t-Cards: ['4D', '5C']\n",
      "\t-Value : 9\n",
      "Dealer:\n",
      "\t-Cards: ['8D']\n",
      "\t-Value : 8\n",
      "Jack decides to: HIT\n",
      "\t-Cards: ['4D', '5C', '6S']\n",
      "\t-Value : 15\n",
      "Jack decides to: HIT\n",
      "\t-Cards: ['4D', '5C', '6S', 'AD']\n",
      "\t-Value : 16\n",
      "Jack decides to: HIT\n",
      "\t-Cards: ['4D', '5C', '6S', 'AD', '4C']\n",
      "\t-Value : 20\n",
      "Jack decides to: STAND\n",
      "\t-Cards: ['4D', '5C', '6S', 'AD', '4C']\n",
      "\t-Value : 20\n",
      "Dealer:\n",
      "\t-Cards: ['8D', '8C', '9S']\n",
      "\t-Value : 25\n",
      "JACK BEATS THE HOUSE\n",
      "Episode 10000:\n",
      "Jack:\n",
      "\t-Cards: ['6S', '7D']\n",
      "\t-Value : 13\n",
      "Dealer:\n",
      "\t-Cards: ['5C']\n",
      "\t-Value : 5\n",
      "Jack decides to: HIT\n",
      "\t-Cards: ['6S', '7D', '10D']\n",
      "\t-Value : 23\n",
      "Dealer:\n",
      "\t-Cards: ['5C']\n",
      "\t-Value : 5\n",
      "THE HOUSE BEATS JACK\n"
     ]
    }
   ],
   "source": [
    "EPISODES = 10_000\n",
    "SHOW_EVERY = 1_000\n",
    "SAVE_EVERY =  None\n",
    "#I choose an arbitrary sample size for the purpose of this notebook. I will discuss a more convenient value later.\n",
    "COLLECT_EVERY = 50\n",
    "results = run_experiment(env, deterministic_agent, EPISODES, SHOW_EVERY, SAVE_EVERY, COLLECT_EVERY)"
   ]
  },
  {
   "cell_type": "code",
   "execution_count": 20,
   "id": "0204fafa-9972-4c7e-9e81-a8eb92b6522c",
   "metadata": {},
   "outputs": [
    {
     "data": {
      "image/png": "[encoded data removed]",
      "text/plain": [
       "<Figure size 1440x720 with 1 Axes>"
      ]
     },
     "metadata": {
      "needs_background": "light"
     },
     "output_type": "display_data"
    }
   ],
   "source": [
    "#Calling one of the above-mentioned plotting functions:\n",
    "plot_reward_time_series(range(COLLECT_EVERY, EPISODES+1, COLLECT_EVERY),results);"
   ]
  },
  {
   "cell_type": "markdown",
   "id": "6fdae6d3-21c8-4805-aaa6-4b44f1359b7e",
   "metadata": {},
   "source": [
    "#### **Learning proof**:\n",
    "The agent is not learning, since prediction implies the evaluation of a given policy. However, I would like to take the opportunity to state the method I am hereafter using to prove the existence of learning:\n",
    "\n",
    "**Augmented Dickey-Fuller test:**\n",
    "\n",
    "I am assuming that the average reward time series is stationary (same average and same variance for the whole time series) when there is no learning. Therefore, Augmented Dickey-Fuller is fit for purpose. It tests the null hypothesis that the series is **not** stationary."
   ]
  },
  {
   "cell_type": "code",
   "execution_count": 23,
   "id": "5aa30a63-41a4-4786-9292-25a836d11ae8",
   "metadata": {},
   "outputs": [
    {
     "data": {
      "text/plain": [
       "'Null hypothesis can be rejected. The series is stationary.'"
      ]
     },
     "execution_count": 23,
     "metadata": {},
     "output_type": "execute_result"
    }
   ],
   "source": [
    "dickey_fuller(results)"
   ]
  },
  {
   "cell_type": "code",
   "execution_count": 24,
   "id": "ae72a4f1-b0af-42a7-86aa-43ddc421a508",
   "metadata": {},
   "outputs": [
    {
     "data": {
      "text/plain": [
       "count    200.000000\n",
       "mean      -0.084050\n",
       "std        0.134486\n",
       "min       -0.410000\n",
       "25%       -0.180000\n",
       "50%       -0.080000\n",
       "75%       -0.007500\n",
       "max        0.330000\n",
       "dtype: float64"
      ]
     },
     "execution_count": 24,
     "metadata": {},
     "output_type": "execute_result"
    }
   ],
   "source": [
    "# Short statistical analysis:\n",
    "runs = pd.Series(data=results, index=range(COLLECT_EVERY, EPISODES+1, COLLECT_EVERY))\n",
    "runs.describe()"
   ]
  },
  {
   "cell_type": "code",
   "execution_count": null,
   "id": "20974a25-35ae-4d67-be56-44c31898ef75",
   "metadata": {},
   "outputs": [],
   "source": []
  }
 ],
 "metadata": {
  "kernelspec": {
   "display_name": "Python 3",
   "language": "python",
   "name": "python3"
  },
  "language_info": {
   "codemirror_mode": {
    "name": "ipython",
    "version": 3
   },
   "file_extension": ".py",
   "mimetype": "text/x-python",
   "name": "python",
   "nbconvert_exporter": "python",
   "pygments_lexer": "ipython3",
   "version": "3.9.2"
  }
 },
 "nbformat": 4,
 "nbformat_minor": 5
}
