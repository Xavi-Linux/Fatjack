{
 "cells": [
  {
   "cell_type": "markdown",
   "id": "24cc32d2-8d71-4403-81b1-2958608292d7",
   "metadata": {},
   "source": [
    "# **Montecarlo**\n",
    "----\n",
    "\n",
    "## Goals of this notebook:\n",
    "\n",
    "1. Make sure that the most basic environment (HitStand) properly works.\n",
    "2. Deploy main plotting utilities.\n",
    "3. Execute a simple experiment to make sure that my hand-made Montecarlo-based algorithms (for both prediction and control) are mistake proof.\n",
    "4. Define methods to accelerate multiple episode executions in later notebooks.\n",
    "5. Showcase agents' common efficiency-oriented capabilities (e.g.: Q/V-table storage and agent storage).\n",
    "\n",
    "---\n",
    "## Library imports\n",
    "\n",
    "#### 1. RL libraries:"
   ]
  },
  {
   "cell_type": "code",
   "execution_count": 3,
   "id": "d26b02c8-84fc-4563-94bd-7bd8b7ceb9d8",
   "metadata": {},
   "outputs": [],
   "source": [
    "import environments\n",
    "from agents.agents import MonteCarloPredictor, MontecarloController, OffPolicyMontecarlo"
   ]
  },
  {
   "cell_type": "markdown",
   "id": "ec7d4d35-3d33-40d1-a921-d1861f62f69c",
   "metadata": {},
   "source": [
    "#### 2. Data aggregation and matrix operation libraries:"
   ]
  },
  {
   "cell_type": "code",
   "execution_count": 4,
   "id": "865c59cf-1cf2-414f-9e22-46b36116b599",
   "metadata": {},
   "outputs": [],
   "source": [
    "import numpy as np\n",
    "import pandas as pd"
   ]
  },
  {
   "cell_type": "markdown",
   "id": "a436f118-3f8f-4b7e-abfe-03f5fadc6f81",
   "metadata": {},
   "source": [
    "#### 3. Plotting libraries:"
   ]
  },
  {
   "cell_type": "code",
   "execution_count": 5,
   "id": "9b0be9f3-8672-44f3-ad78-b00bfa1d377b",
   "metadata": {},
   "outputs": [],
   "source": [
    "import matplotlib.pyplot as plt\n",
    "import matplotlib.cm as cm\n",
    "import seaborn as sns\n",
    "from mpl_toolkits.mplot3d import Axes3D\n",
    "from matplotlib.ticker import FormatStrFormatter\n",
    "from mpl_toolkits.axes_grid1 import make_axes_locatable\n",
    "# Commands to tweak notebook layout:\n",
    "from sys import maxsize\n",
    "np.set_printoptions(threshold=maxsize)\n",
    "plt.style.use('seaborn-pastel')"
   ]
  },
  {
   "cell_type": "markdown",
   "id": "78e25f02-2dbc-42d7-8e21-818a896d2309",
   "metadata": {},
   "source": [
    "#### 4. Statistical analysis tools:"
   ]
  },
  {
   "cell_type": "code",
   "execution_count": 7,
   "id": "4a2287af-abda-462c-beeb-6d00736ee94a",
   "metadata": {},
   "outputs": [],
   "source": [
    "from statsmodels.tsa.stattools import adfuller"
   ]
  },
  {
   "cell_type": "markdown",
   "id": "e410e9ea-3cd9-454c-b36e-fe51eb05e210",
   "metadata": {},
   "source": [
    "----\n",
    "\n",
    "## Common Plotting utilities:\n"
   ]
  },
  {
   "cell_type": "markdown",
   "id": "4f94afc4-0935-4bf5-abf5-43c8333c91da",
   "metadata": {},
   "source": [
    "----\n",
    "\n",
    "## Basic enviroment presentation:"
   ]
  },
  {
   "cell_type": "code",
   "execution_count": 8,
   "id": "c8a4f001-843c-4de0-a935-44287a200b94",
   "metadata": {},
   "outputs": [],
   "source": [
    "# AI gym-like enviroment instance creation:\n",
    "env = environments.make('hitstand')"
   ]
  },
  {
   "cell_type": "code",
   "execution_count": 10,
   "id": "e60d22ef-2cd0-4215-b797-773377bd75f1",
   "metadata": {},
   "outputs": [
    {
     "name": "stdout",
     "output_type": "stream",
     "text": [
      "1. 6 decks (with replacement after each episode)\n",
      "2. Dealer stands on soft 17\n",
      "3. No Double Down\n",
      "4. No split\n",
      "5. No insurance offered\n",
      "6. No surrender\n",
      "7. Natural Blackjack 3:2\n"
     ]
    }
   ],
   "source": [
    "print(env)\n",
    "# Main rules:"
   ]
  },
  {
   "cell_type": "markdown",
   "id": "560bdb54-9c0a-4384-8a85-ac72d9e50afc",
   "metadata": {},
   "source": [
    "**Code note**: although natural Blackjack triggers a 3:2 payoff, it will never be computed as Blackjack states entail automatic state transition (the agent receives two cards and just needs to wait for hand resolution).  "
   ]
  },
  {
   "cell_type": "code",
   "execution_count": 12,
   "id": "1cae5209-4132-4fa7-a296-b5459760dbaa",
   "metadata": {},
   "outputs": [
    {
     "data": {
      "text/plain": [
       "{-1: 'The House beats Jack',\n",
       " 0: 'Draw/not terminal',\n",
       " 1: 'Jack beats the House',\n",
       " 1.5: 'Blackjack for Jack'}"
      ]
     },
     "execution_count": 12,
     "metadata": {},
     "output_type": "execute_result"
    }
   ],
   "source": [
    "env.reward_space_description"
   ]
  },
  {
   "cell_type": "code",
   "execution_count": 14,
   "id": "7ae162f6-bc23-4619-92e8-39c497e9ef63",
   "metadata": {},
   "outputs": [
    {
     "data": {
      "text/plain": [
       "{0: \"Player's total\", 1: \"Dealer's card value\", 2: 'Player has got usable ace'}"
      ]
     },
     "execution_count": 14,
     "metadata": {},
     "output_type": "execute_result"
    }
   ],
   "source": [
    "env.observation_space_description\n",
    "# Every observation consists of a 3-element tuple, the description for each element and their positions are:"
   ]
  },
  {
   "cell_type": "code",
   "execution_count": null,
   "id": "842c98c2-3a51-4b0d-9c7b-f64ebead824e",
   "metadata": {},
   "outputs": [],
   "source": []
  }
 ],
 "metadata": {
  "kernelspec": {
   "display_name": "Python 3",
   "language": "python",
   "name": "python3"
  },
  "language_info": {
   "codemirror_mode": {
    "name": "ipython",
    "version": 3
   },
   "file_extension": ".py",
   "mimetype": "text/x-python",
   "name": "python",
   "nbconvert_exporter": "python",
   "pygments_lexer": "ipython3",
   "version": "3.9.2"
  }
 },
 "nbformat": 4,
 "nbformat_minor": 5
}
