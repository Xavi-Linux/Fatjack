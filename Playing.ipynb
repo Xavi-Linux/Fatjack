{
 "cells": [
  {
   "cell_type": "code",
   "execution_count": 1,
   "id": "miniature-trigger",
   "metadata": {},
   "outputs": [],
   "source": [
    "import interfaces"
   ]
  },
  {
   "cell_type": "code",
   "execution_count": 2,
   "id": "resistant-johnson",
   "metadata": {},
   "outputs": [],
   "source": [
    "from interfaces.bash_interface import run"
   ]
  },
  {
   "cell_type": "code",
   "execution_count": 3,
   "id": "returning-sherman",
   "metadata": {},
   "outputs": [
    {
     "name": "stdout",
     "output_type": "stream",
     "text": [
      "Welcome to Blackjack!\n"
     ]
    },
    {
     "name": "stdin",
     "output_type": "stream",
     "text": [
      "Please, crunch how many players want to play: 1\n",
      "Please, crunch how many decks you want to play with (6 or 8): 6\n"
     ]
    },
    {
     "name": "stdout",
     "output_type": "stream",
     "text": [
      "\n",
      "Fine!\n",
      "\t- Number of players is 1\n",
      "\t- Number of decks is 6\n",
      "\n",
      "------Player1------\n"
     ]
    },
    {
     "name": "stdin",
     "output_type": "stream",
     "text": [
      "Enter Players1's name: Xavi\n",
      "Enter Players1's initial cash: 1000\n",
      "Do you want to allow indebtness?(y/n)  n\n",
      "Please,Xavi! Place your bet:  100\n"
     ]
    },
    {
     "name": "stdout",
     "output_type": "stream",
     "text": [
      "Current bet:  100 \n",
      " Current cash:  900\n",
      "--------Xavi---------\n",
      " Cards: QD 4H\n",
      " Min. value: 14\n",
      " Max. Value: 14\n",
      "--------Croupier---------\n",
      " Cards: 5S\n",
      " Min. value: 5\n",
      " Max. Value: 5\n"
     ]
    },
    {
     "name": "stdin",
     "output_type": "stream",
     "text": [
      "\n",
      "Xavi, Choose an action (hit/stand):  stand\n"
     ]
    },
    {
     "name": "stdout",
     "output_type": "stream",
     "text": [
      "--------Croupier---------\n",
      " Cards: 5S JC AC 4D\n",
      " Min. value: 20\n",
      " Max. Value: 30 \n",
      "\n",
      "THE HOUSE BEATS XAVI \n",
      "\n",
      "Xavi's balance after the last round is:\n",
      "\t- Total cash: 900\n",
      "\t- Total gains: -100\n",
      " \n",
      "\n",
      "\n",
      "\n"
     ]
    },
    {
     "name": "stdin",
     "output_type": "stream",
     "text": [
      "Xavi, do you want to play on? (y/n)  y\n",
      "Please,Xavi! Place your bet:  150.6\n"
     ]
    },
    {
     "name": "stdout",
     "output_type": "stream",
     "text": [
      "ERROR--> Input must be an integer\n"
     ]
    },
    {
     "name": "stdin",
     "output_type": "stream",
     "text": [
      "Please,Xavi! Place your bet:  150\n"
     ]
    },
    {
     "name": "stdout",
     "output_type": "stream",
     "text": [
      "Current bet:  150 \n",
      " Current cash:  750\n",
      "--------Xavi---------\n",
      " Cards: 4C 9D\n",
      " Min. value: 13\n",
      " Max. Value: 13\n",
      "--------Croupier---------\n",
      " Cards: 4H\n",
      " Min. value: 4\n",
      " Max. Value: 4\n"
     ]
    },
    {
     "name": "stdin",
     "output_type": "stream",
     "text": [
      "\n",
      "Xavi, Choose an action (hit/stand):  hit\n"
     ]
    },
    {
     "name": "stdout",
     "output_type": "stream",
     "text": [
      "--------Xavi---------\n",
      " Cards: 4C 9D 6S\n",
      " Min. value: 19\n",
      " Max. Value: 19 \n",
      " Current bet:  150 \n",
      " Current cash:  750 \n",
      "\n"
     ]
    },
    {
     "name": "stdin",
     "output_type": "stream",
     "text": [
      "\n",
      "Xavi, Choose an action (hit/stand):  stand\n"
     ]
    },
    {
     "name": "stdout",
     "output_type": "stream",
     "text": [
      "--------Croupier---------\n",
      " Cards: 4H 4S JC\n",
      " Min. value: 18\n",
      " Max. Value: 18 \n",
      "\n",
      "XAVI BEATS THE HOUSE \n",
      "\n",
      "Xavi's balance after the last round is:\n",
      "\t- Total cash: 1,050\n",
      "\t- Total gains: 50\n",
      " \n",
      "\n",
      "\n",
      "\n"
     ]
    },
    {
     "name": "stdin",
     "output_type": "stream",
     "text": [
      "Xavi, do you want to play on? (y/n)  n\n"
     ]
    },
    {
     "name": "stdout",
     "output_type": "stream",
     "text": [
      "Game over: No players left to play\n"
     ]
    },
    {
     "name": "stdin",
     "output_type": "stream",
     "text": [
      "Do you want to play again? (y/n)  n\n"
     ]
    }
   ],
   "source": [
    "run()"
   ]
  }
 ],
 "metadata": {
  "kernelspec": {
   "display_name": "Python 3",
   "language": "python",
   "name": "python3"
  },
  "language_info": {
   "codemirror_mode": {
    "name": "ipython",
    "version": 3
   },
   "file_extension": ".py",
   "mimetype": "text/x-python",
   "name": "python",
   "nbconvert_exporter": "python",
   "pygments_lexer": "ipython3",
   "version": "3.9.2"
  }
 },
 "nbformat": 4,
 "nbformat_minor": 5
}
