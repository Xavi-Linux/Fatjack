{
 "cells": [
  {
   "cell_type": "markdown",
   "id": "40616f6d-5eb0-49a3-a949-5d134061b679",
   "metadata": {},
   "source": [
    "# **Train-Test split**\n",
    "----\n",
    "\n",
    "## Goals of this notebook:\n",
    "\n",
    "1. Discuss the proper sample size to calculate average rewards (main metric).\n",
    "2. Define methods to alternate between train and test mode.\n",
    "3. Parallelize operations to gain some efficiency.\n",
    "---\n",
    "## Library imports\n",
    "\n",
    "#### 1. RL libraries:"
   ]
  },
  {
   "cell_type": "code",
   "execution_count": 1,
   "id": "5c1d0cc2-c7ac-4a38-98b0-497db244bd2f",
   "metadata": {},
   "outputs": [],
   "source": [
    "import environments\n",
    "from agents.agents import TDLambdaPredictor, WatkinsLambda, Sarsa, QLearning, SarsaLambda"
   ]
  },
  {
   "cell_type": "markdown",
   "id": "58f3ea1b-79cc-475e-9d6f-b2f9742e3375",
   "metadata": {},
   "source": [
    "#### 2. Data aggregation and matrix operation libraries:"
   ]
  },
  {
   "cell_type": "code",
   "execution_count": 2,
   "id": "3dcd437d-663d-4754-941b-2aceea018752",
   "metadata": {},
   "outputs": [],
   "source": [
    "import numpy as np\n",
    "import pandas as pd"
   ]
  },
  {
   "cell_type": "markdown",
   "id": "b08411b0-82b1-46d9-bb62-2aa04858bee4",
   "metadata": {},
   "source": [
    "#### 3. Plotting libraries:"
   ]
  },
  {
   "cell_type": "code",
   "execution_count": 3,
   "id": "e126c7d6-7dd8-4ef4-b764-e6c063e2616d",
   "metadata": {},
   "outputs": [],
   "source": [
    "import matplotlib.pyplot as plt\n",
    "import matplotlib.cm as cm\n",
    "from matplotlib.colors import ListedColormap, BoundaryNorm\n",
    "from matplotlib.ticker import FormatStrFormatter, ScalarFormatter, FuncFormatter\n",
    "import seaborn as sns\n",
    "# Commands to tweak notebook layout:\n",
    "from sys import maxsize\n",
    "np.set_printoptions(threshold=maxsize)\n",
    "plt.style.use('seaborn-pastel')"
   ]
  },
  {
   "cell_type": "markdown",
   "id": "9747238e-58a1-4c74-95b0-deeb9b40c746",
   "metadata": {},
   "source": [
    "#### 4. Statistical analysis tools:"
   ]
  },
  {
   "cell_type": "code",
   "execution_count": 4,
   "id": "1ff03bd2-1d09-4a7b-81b5-1eb37c5e8561",
   "metadata": {},
   "outputs": [],
   "source": [
    "from statsmodels.tsa.stattools import adfuller"
   ]
  },
  {
   "cell_type": "markdown",
   "id": "d2cf2782-a589-4dde-9ac7-8715cdb74020",
   "metadata": {},
   "source": [
    "----\n",
    "\n",
    "## Common plotting utilities:\n",
    "\n",
    "#### Average reward time series:"
   ]
  },
  {
   "cell_type": "code",
   "execution_count": 5,
   "id": "2d849d99-e2e5-4d24-99be-73dde41b0c3a",
   "metadata": {},
   "outputs": [],
   "source": [
    "def plot_reward_time_series(X,Y, far=True):\n",
    "    \"\"\"\n",
    "    X: a range of numbers starting from the sample size number to the total number of episode + 1\n",
    "       (to make it inclusive) and incrementing by sample size steps.\n",
    "    Y: average rewards\n",
    "    far: bool. If False the plots zooms in.\n",
    "    \n",
    "    returns: the plot container instance\n",
    "    \"\"\"\n",
    "    # domain redefinition to adjust how many x-ticks are displayed dinamically\n",
    "    max_domain = X[-1]\n",
    "    multiplier = len(str(max_domain)) - 2\n",
    "    step = int(str(max_domain)[0]) * 10**multiplier\n",
    "    domain = np.arange(X[0], max_domain + step, step)\n",
    "    \n",
    "    if far:\n",
    "        ylim = (-1, 1)\n",
    "        yticks= np.arange(-1,1.05,0.05)\n",
    "    else:\n",
    "        max_value = max(0, max(Y))\n",
    "        ylim = (min(Y), max_value)\n",
    "        yticks = np.arange(min(Y), max_value + 0.01, 0.01)\n",
    "    \n",
    "    fig = plt.figure(figsize=(20,10))\n",
    "    \n",
    "    style_dict = {'xlim': (X[0], max_domain),\n",
    "                  'xticks': domain,\n",
    "                  'xticklabels': domain,\n",
    "                  'xlabel': 'Episodes',\n",
    "                  'ylim': ylim,\n",
    "                  'yticks': yticks,\n",
    "                  'yticklabels': yticks,\n",
    "                  'title': 'Average reward over last {0:,.0f} episodes'.format(X[0])\n",
    "                 }\n",
    "    \n",
    "    ax = fig.add_subplot(1,1,1, **style_dict)\n",
    "    ax.grid()\n",
    "    #Axis formatters:\n",
    "    formatter = ScalarFormatter(useMathText=True)\n",
    "    #Scientific value display when the total number of episodes is over 1M:\n",
    "    formatter.set_scientific(True)\n",
    "    ax.xaxis.set_major_formatter(formatter)\n",
    "    ax.yaxis.set_major_formatter(FormatStrFormatter('% 1.2f'))\n",
    "    # in and out of the money border:\n",
    "    ax.plot(domain.ravel(), np.zeros_like(domain).ravel(), color='red')\n",
    "    \n",
    "    ax.plot(X,Y)\n",
    "    \n",
    "    return ax"
   ]
  },
  {
   "cell_type": "markdown",
   "id": "718024d0-04ec-4a86-bdb1-b5dbbf3afadc",
   "metadata": {},
   "source": [
    "#### Density plot:"
   ]
  },
  {
   "cell_type": "code",
   "execution_count": 6,
   "id": "2397b259-2b2d-4e0a-b921-61a0212480cb",
   "metadata": {},
   "outputs": [],
   "source": [
    "def plot_density(data):\n",
    "    \"\"\"\n",
    "    data: a Panda Series containing every sample of average rewards\n",
    "    \n",
    "    returns: both histogram and boxplot container instances\n",
    "    \"\"\"\n",
    "    title = 'Average reward sampling: $\\overline{{X}}$={0:.2f}, s={1:.2f}, n={2:,.0f}, num of samples={3:,.0f}'.format(data.mean(),\n",
    "                                                                                                                     data.std(),\n",
    "                                                                                                                     data.index.values[0],\n",
    "                                                                                                                     len(data))\n",
    "    fig, (ax_box, ax_hist) = plt.subplots(2, sharex=True, figsize=(20,10), gridspec_kw={\"height_ratios\": (.15, .85)}) \n",
    "    fig.suptitle(t=title, fontsize=16, x=0.5, y=1.05)\n",
    "    sns.boxplot(data=data,x=data, ax=ax_box)\n",
    "    sns.histplot(data=data, x=data, ax=ax_hist, bins=20)\n",
    "    ax_hist.set_xlabel('Average Reward')\n",
    "    \n",
    "    return ax_box, ax_hist"
   ]
  },
  {
   "cell_type": "markdown",
   "id": "ee627aed-eb74-4e8b-bf88-1f2538fe357c",
   "metadata": {},
   "source": [
    "#### Value Function:"
   ]
  },
  {
   "cell_type": "code",
   "execution_count": 7,
   "id": "d6546cae-c81c-426d-980a-dc2aa753359c",
   "metadata": {},
   "outputs": [],
   "source": [
    "def plot_v_func(table, title):\n",
    "    \"\"\"\n",
    "    table: agent's V-table (if agents has a Q-table, it must be transformed before being passed as an argument for this function)\n",
    "    title: str. A title for the plot\n",
    "    \n",
    "    returns: the plot container instance\n",
    "    \"\"\"\n",
    "    X = np.linspace(1,10,10)\n",
    "    Y = np.linspace(12, 20,9)\n",
    "    Xm, Ym = np.meshgrid(X, Y)\n",
    "    \n",
    "    fig = plt.figure(figsize=(20,10))\n",
    "    fig.suptitle(t=title, fontsize=16, x=0.5, y=1.05)\n",
    "    \n",
    "    common_style_dict = {'xlim': (X[0], X[-1]),\n",
    "                        'xticks': X,\n",
    "                        'xticklabels': ['{:.0f}'.format(value) for value in list(X)[1:]] + ['A'],\n",
    "                        'xlabel': 'Dealer\\'s Card',\n",
    "                        'ylim': (Y[0], Y[-1]),\n",
    "                        'yticks': Y,\n",
    "                        'yticklabels': Y,\n",
    "                         'ylabel': 'Player\\'s Total',\n",
    "                        'zlim': (-1, 1.5),\n",
    "                        'zticks': np.arange(-1, 1.8, 0.2),\n",
    "                        'zticklabels': np.arange(-1, 1.8, 0.2),\n",
    "                        }\n",
    "    \n",
    "    #Not usable ace-related states:\n",
    "    ax = fig.add_subplot(1,2,1, projection='3d', title='No usable Ace', **common_style_dict)\n",
    "    surface_1 = ax.plot_surface(Xm, Ym, table[8:17,:10,0], cmap=plt.get_cmap('bwr'), vmin=-1, vmax=1)\n",
    "    \n",
    "    ax.yaxis.set_major_formatter(FormatStrFormatter('% 1.0f'))\n",
    "    ax.zaxis.set_major_formatter(FormatStrFormatter('% 1.1f'))\n",
    "    ax.view_init(ax.elev, -120)\n",
    "    \n",
    "    #Usable ace-related states:\n",
    "    ax = fig.add_subplot(1,2,2, projection='3d', title=' Usable Ace', **common_style_dict)\n",
    "    surface_2 = ax.plot_surface(Xm, Ym, table[8:17,:10,1], cmap=plt.get_cmap('bwr'), vmin=-1, vmax=1)\n",
    "    \n",
    "    ax.yaxis.set_major_formatter(FormatStrFormatter('% 1.0f'))\n",
    "    ax.zaxis.set_major_formatter(FormatStrFormatter('% 1.1f'))\n",
    "    ax.view_init(ax.elev, -120)\n",
    "    \n",
    "    #Colour bar:\n",
    "    fig.subplots_adjust(right=0.8)\n",
    "    cbar_ax = fig.add_axes([0.85, 0.35, 0.01, 0.5])\n",
    "    fig.colorbar(surface_1,shrink=0.2, aspect=15, cax=cbar_ax)\n",
    "    \n",
    "    return ax"
   ]
  },
  {
   "cell_type": "markdown",
   "id": "e389bf90-f65b-4a9c-abf2-03832812f73f",
   "metadata": {},
   "source": [
    "#### Policy:"
   ]
  },
  {
   "cell_type": "code",
   "execution_count": 8,
   "id": "fabc8539-106c-4f7e-b3b2-a61e2d510594",
   "metadata": {
    "tags": []
   },
   "outputs": [],
   "source": [
    "def plot_policy(table, title):\n",
    "    \"\"\"\n",
    "    table: matrix containing action indexes (it must have n-1 dimensions with respect to the agent's Q-table)\n",
    "    title: str. A title for the plot\n",
    "    \n",
    "    returns: the plot container instance\n",
    "    \"\"\"\n",
    "    #tick label transformer (used for the colour bar):\n",
    "    def format_tick(x, pos):\n",
    "        if x == 0:\n",
    "            return '{0}-STAND'.format(str(x))\n",
    "        elif x == 1:\n",
    "            return '{0}-HIT'.format(str(x))\n",
    "    \n",
    "    X = np.arange(-.5,9.5,1)\n",
    "    Y = np.arange(0.5, 11.5,1)\n",
    "    \n",
    "    fig = plt.figure(figsize=(20,10))\n",
    "    fig.suptitle(t=title, fontsize=16, x=0.5, y=1.05)\n",
    "    \n",
    "    common_style_dict = {'xlim': (-.5, 9.5),\n",
    "                        'xticks': X,\n",
    "                        'xticklabels': ['{:.0f}'.format(value) for value in range(2,11,1)] + ['A'],\n",
    "                        'xlabel': 'Dealer\\'s Card',\n",
    "                        'yticks': Y,\n",
    "                        'yticklabels': np.arange(11,22,1),\n",
    "                        'ylabel': 'Player\\'s Total'\n",
    "                        }\n",
    "    #I only plot those states wherein there is risk of going bust after hitting once more and, for the sake of symmetry,\n",
    "    #I manually modify those non-existing usable-ace-related states:\n",
    "    table[:8,:,1] = 1\n",
    "    \n",
    "    #Not usable ace-related states:\n",
    "    ax = fig.add_subplot(1,2,1, title='No usable Ace', **common_style_dict)\n",
    "    im = ax.imshow(table[7:18,:10,0], cmap=plt.get_cmap('bwr'), vmin=0, vmax=1, alpha=0.5)\n",
    "    ax.invert_yaxis()\n",
    "    ax.grid(True,color='w', linestyle='-', linewidth=1, axis='both')\n",
    "    ##Little tweak for tick labels' position:\n",
    "    for label in ax.get_xticklabels():\n",
    "        label.set_horizontalalignment('left')\n",
    "\n",
    "    for label in ax.get_yticklabels():\n",
    "        label.set_verticalalignment('top')\n",
    "    \n",
    "    #Usable ace-related states:\n",
    "    ax = fig.add_subplot(1,2,2, title=' Usable Ace', **common_style_dict)\n",
    "    ax.imshow(table[7:18,:10,1],cmap=plt.get_cmap('bwr'), vmin=0, vmax=1, alpha=0.5)\n",
    "    ax.invert_yaxis()\n",
    "    ax.grid(True,color='w', linestyle='-', linewidth=1, axis='both')\n",
    "    ##Little tweak for tick labels' position:\n",
    "    for label in ax.get_xticklabels():\n",
    "        label.set_horizontalalignment('left')\n",
    "    \n",
    "    #Colour bar definition\n",
    "    fig.subplots_adjust(right=0.8)\n",
    "    original_cmap = plt.get_cmap('bwr')\n",
    "    \n",
    "    #Converting a multiple-colour cmap into 2-colour cmap\n",
    "    cmap = ListedColormap([original_cmap(0), original_cmap(original_cmap.N)])\n",
    "    bounds = [0, 0.5, 1]\n",
    "    norm = BoundaryNorm(bounds, original_cmap.N)    \n",
    "    cbar_ax = fig.add_axes([0.85, 0.05, 0.01, 0.85])\n",
    "    \n",
    "    fig.colorbar(cm.ScalarMappable(cmap=cmap, norm=norm),\n",
    "                 shrink=0.2,\n",
    "                 aspect=15,\n",
    "                 cax=cbar_ax,\n",
    "                 boundaries= [0] + bounds + [2],  \n",
    "                 extend='both',\n",
    "                 ticks=[0,1],\n",
    "                 format = FuncFormatter(format_tick),\n",
    "                 spacing='proportional',\n",
    "                 orientation='vertical',\n",
    "                 alpha= 0.5)\n",
    "    \n",
    "    return ax"
   ]
  },
  {
   "cell_type": "markdown",
   "id": "87895b41-ff22-4324-b6ba-3fbc13473f2f",
   "metadata": {},
   "source": [
    "---\n",
    "\n",
    "## Statistical functions:\n",
    "\n",
    "I use an **alpha value of 1%** for any statistical test executed in this project"
   ]
  },
  {
   "cell_type": "code",
   "execution_count": 9,
   "id": "92ddf5fd-27af-4c6b-83ee-5e844115fa7f",
   "metadata": {},
   "outputs": [],
   "source": [
    "CONFIDENCE_STRING_FORMAT = '1%'\n",
    "CONFIDENCE = 0.01"
   ]
  },
  {
   "cell_type": "code",
   "execution_count": 10,
   "id": "2ff10b6f-56df-44a4-bf45-52ce60cfbbc6",
   "metadata": {},
   "outputs": [],
   "source": [
    "def dickey_fuller(time_series, confidence=CONFIDENCE):\n",
    "    fuller_results = adfuller(time_series)\n",
    "    if fuller_results[1] <= confidence:\n",
    "        return 'Null hypothesis can be rejected. The series is stationary.'\n",
    "    else:\n",
    "        return 'Null hypothesis cannot be rejected. The series is not stationary'"
   ]
  },
  {
   "cell_type": "markdown",
   "id": "2b316980-ade0-443e-96a8-f816c4a0f436",
   "metadata": {},
   "source": [
    "----\n",
    "\n",
    "## Experiment Definition:"
   ]
  }
 ],
 "metadata": {
  "kernelspec": {
   "display_name": "Python 3",
   "language": "python",
   "name": "python3"
  },
  "language_info": {
   "codemirror_mode": {
    "name": "ipython",
    "version": 3
   },
   "file_extension": ".py",
   "mimetype": "text/x-python",
   "name": "python",
   "nbconvert_exporter": "python",
   "pygments_lexer": "ipython3",
   "version": "3.9.2"
  }
 },
 "nbformat": 4,
 "nbformat_minor": 5
}
