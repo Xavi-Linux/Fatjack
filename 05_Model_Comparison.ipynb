{
 "cells": [
  {
   "cell_type": "markdown",
   "id": "c6b49fc3-3d91-481a-943b-291a48f601c8",
   "metadata": {},
   "source": [
    "# **Model Comparison**\n",
    "----\n",
    "\n",
    "## Goals of this notebook:\n",
    "\n",
    "1. Compare different agents with different hyperparametrization\n",
    "---\n",
    "## Library imports\n",
    "\n",
    "#### 1. RL libraries:"
   ]
  },
  {
   "cell_type": "code",
   "execution_count": 1,
   "id": "8cb280f9-8cf1-47a4-bd15-07cd789b1952",
   "metadata": {},
   "outputs": [],
   "source": [
    "import environments\n",
    "from agents.agents import TDLambdaPredictor, WatkinsLambda, Sarsa,\\\n",
    "                          QLearning, SarsaLambda, MonteCarloPredictor,\\\n",
    "                          MontecarloController, OffPolicyMontecarlo"
   ]
  },
  {
   "cell_type": "markdown",
   "id": "f3589c7d-cf09-4dec-82ec-936da804c6a0",
   "metadata": {},
   "source": [
    "#### 2. Data aggregation and matrix operation libraries:"
   ]
  },
  {
   "cell_type": "code",
   "execution_count": 2,
   "id": "59ac7541-d411-4ea9-82bb-85187b7086a1",
   "metadata": {},
   "outputs": [],
   "source": [
    "import numpy as np\n",
    "import pandas as pd"
   ]
  },
  {
   "cell_type": "markdown",
   "id": "fd05c042-ffc0-46fc-b788-b2b311d7dea8",
   "metadata": {},
   "source": [
    "#### 3. Plotting libraries:"
   ]
  },
  {
   "cell_type": "code",
   "execution_count": 3,
   "id": "61f6fd29-4f9a-46f9-875c-43d7c29a6d87",
   "metadata": {},
   "outputs": [],
   "source": [
    "import matplotlib.pyplot as plt\n",
    "import matplotlib.cm as cm\n",
    "from matplotlib.colors import ListedColormap, BoundaryNorm\n",
    "from matplotlib.ticker import FormatStrFormatter, ScalarFormatter, FuncFormatter\n",
    "import seaborn as sns\n",
    "# Commands to tweak notebook layout:\n",
    "from sys import maxsize\n",
    "np.set_printoptions(threshold=maxsize)\n",
    "plt.style.use('seaborn-pastel')"
   ]
  },
  {
   "cell_type": "markdown",
   "id": "8cb82ec2-57a9-43fc-a64f-2916b5ec43b1",
   "metadata": {},
   "source": [
    "#### 4. Parallel programming:"
   ]
  },
  {
   "cell_type": "code",
   "execution_count": 4,
   "id": "93e19011-7801-402a-a335-4598b395fbb7",
   "metadata": {},
   "outputs": [],
   "source": [
    "import multiprocessing as mp"
   ]
  },
  {
   "cell_type": "markdown",
   "id": "17c2e426-1692-4024-ae7c-05ee52c25928",
   "metadata": {},
   "source": [
    "----\n",
    "\n",
    "## Common plotting utilities:\n",
    "\n",
    "#### Average reward time series:"
   ]
  },
  {
   "cell_type": "code",
   "execution_count": 5,
   "id": "a2f498d9-fae5-481b-ac2c-adba72756db6",
   "metadata": {},
   "outputs": [],
   "source": [
    "def plot_reward_time_series(X,Y, far=True, lower=None, upper=None):\n",
    "    \"\"\"\n",
    "    X: a range of numbers starting from the sample size number to the total number of episode + 1\n",
    "       (to make it inclusive) and incrementing by sample size steps.\n",
    "    Y: average rewards\n",
    "    far: bool. If False the plots zooms in.\n",
    "    lower: the lower bound of average rewards. Same length than Y.\n",
    "    upper: the upper bound of average rewards. Same length than Y.\n",
    "    \n",
    "    returns: the plot container instance\n",
    "    \"\"\"\n",
    "    # domain redefinition to adjust how many x-ticks are displayed dinamically\n",
    "    max_domain = X[-1]\n",
    "    multiplier = len(str(max_domain)) - 2\n",
    "    step = int(str(max_domain)[0]) * 10**multiplier\n",
    "    domain = np.arange(X[0], max_domain + step, step)\n",
    "    \n",
    "    if far:\n",
    "        ylim = (-1, 1)\n",
    "        yticks= np.arange(-1,1.05,0.05)\n",
    "    else:\n",
    "        max_value = max(0, max(Y))\n",
    "        ylim = (min(Y)-0.1, max_value)\n",
    "        yticks = np.round(np.arange(min(Y)-0.1, max_value+0.1, 0.01),2)\n",
    "    \n",
    "    fig = plt.figure(figsize=(20,10))\n",
    "    \n",
    "    style_dict = {'xlim': (X[0], max_domain),\n",
    "                  'xticks': domain,\n",
    "                  'xticklabels': domain,\n",
    "                  'xlabel': 'Episodes',\n",
    "                  'ylim': ylim,\n",
    "                  'yticks': yticks,\n",
    "                  'yticklabels': yticks,\n",
    "                  'title': 'Average reward over last {0:,.0f} episodes'.format(X[0])\n",
    "                 }\n",
    "    \n",
    "    ax = fig.add_subplot(1,1,1, **style_dict)\n",
    "    ax.grid()\n",
    "    #Axis formatters:\n",
    "    formatter = ScalarFormatter(useMathText=True)\n",
    "    #Scientific value display when the total number of episodes is over 1M:\n",
    "    formatter.set_scientific(True)\n",
    "    ax.xaxis.set_major_formatter(formatter)\n",
    "    ax.yaxis.set_major_formatter(FormatStrFormatter('% 1.2f'))\n",
    "    # in and out of the money border:\n",
    "    ax.plot(domain.ravel(), np.zeros_like(domain).ravel(), color='red')\n",
    "    \n",
    "    #if bounds of ci are passed as arguments, plot them:\n",
    "    if lower and upper:\n",
    "        ax.fill_between(X, lower, upper, alpha=0.1, color='green')\n",
    "    \n",
    "    ax.plot(X,Y)\n",
    "    \n",
    "    return ax"
   ]
  },
  {
   "cell_type": "markdown",
   "id": "1c406d38-70b7-4317-b998-9e1d817e636c",
   "metadata": {},
   "source": [
    "#### Density plot:"
   ]
  },
  {
   "cell_type": "code",
   "execution_count": 6,
   "id": "960c8471-0bc5-4093-b2ce-43cd9419d484",
   "metadata": {},
   "outputs": [],
   "source": [
    "def plot_density(data):\n",
    "    \"\"\"\n",
    "    data: a Panda Series containing every sample of average rewards\n",
    "    \n",
    "    returns: both histogram and boxplot container instances\n",
    "    \"\"\"\n",
    "    title = 'Average reward sampling: $\\overline{{X}}$={0:.2f}, s={1:.2f}, n={2:,.0f}, num of samples={3:,.0f}'\\\n",
    "            .format(data.mean(),\n",
    "                    data.std(),\n",
    "                    data.index.values[0],\n",
    "                    len(data))\n",
    "    \n",
    "    fig, (ax_box, ax_hist) = plt.subplots(2, sharex=True, figsize=(20,10), gridspec_kw={\"height_ratios\": (.15, .85)}) \n",
    "    fig.suptitle(t=title, fontsize=16, x=0.5, y=1.05)\n",
    "    \n",
    "    sns.boxplot(data=data,x=data, ax=ax_box)\n",
    "    sns.histplot(data=data, x=data, ax=ax_hist, bins=20, kde=True)\n",
    "    \n",
    "    #Delimiting tails:\n",
    "    ax_hist.axvline(x=np.percentile(data,[2.5]), label='2.5th percentile', c='r')\n",
    "    ax_hist.axvline(x=np.percentile(data,[97.5]), label='97.5th percentile', c='r')\n",
    "    ax_hist.legend()\n",
    "    ax_hist.set_xlabel('Average Reward')\n",
    "    \n",
    "    return ax_box, ax_hist"
   ]
  },
  {
   "cell_type": "markdown",
   "id": "94987a54-f96a-419e-bf4b-16e4c9308d14",
   "metadata": {},
   "source": [
    "#### Value Function:"
   ]
  },
  {
   "cell_type": "code",
   "execution_count": 7,
   "id": "61094b9d-2de1-438c-928c-09871fb45a78",
   "metadata": {},
   "outputs": [],
   "source": [
    "def plot_v_func(table, title):\n",
    "    \"\"\"\n",
    "    table: agent's V-table (if agents has a Q-table, it must be transformed before being passed as an argument for this function)\n",
    "    title: str. A title for the plot\n",
    "    \n",
    "    returns: the plot container instance\n",
    "    \"\"\"\n",
    "    X = np.linspace(1,10,10)\n",
    "    Y = np.linspace(12, 20,9)\n",
    "    Xm, Ym = np.meshgrid(X, Y)\n",
    "    \n",
    "    fig = plt.figure(figsize=(20,10))\n",
    "    fig.suptitle(t=title, fontsize=16, x=0.5, y=1.05)\n",
    "    \n",
    "    common_style_dict = {'xlim': (X[0], X[-1]),\n",
    "                        'xticks': X,\n",
    "                        'xticklabels': ['{:.0f}'.format(value) for value in list(X)[1:]] + ['A'],\n",
    "                        'xlabel': 'Dealer\\'s Card',\n",
    "                        'ylim': (Y[0], Y[-1]),\n",
    "                        'yticks': Y,\n",
    "                        'yticklabels': Y,\n",
    "                         'ylabel': 'Player\\'s Total',\n",
    "                        'zlim': (-1, 1.5),\n",
    "                        'zticks': np.arange(-1, 1.8, 0.2),\n",
    "                        'zticklabels': np.arange(-1, 1.8, 0.2),\n",
    "                        }\n",
    "    \n",
    "    #Not usable ace-related states:\n",
    "    ax = fig.add_subplot(1,2,1, projection='3d', title='No usable Ace', **common_style_dict)\n",
    "    surface_1 = ax.plot_surface(Xm, Ym, table[8:17,:10,0], cmap=plt.get_cmap('bwr'), vmin=-1, vmax=1)\n",
    "    \n",
    "    ax.yaxis.set_major_formatter(FormatStrFormatter('% 1.0f'))\n",
    "    ax.zaxis.set_major_formatter(FormatStrFormatter('% 1.1f'))\n",
    "    ax.view_init(ax.elev, -120)\n",
    "    \n",
    "    #Usable ace-related states:\n",
    "    ax = fig.add_subplot(1,2,2, projection='3d', title=' Usable Ace', **common_style_dict)\n",
    "    surface_2 = ax.plot_surface(Xm, Ym, table[8:17,:10,1], cmap=plt.get_cmap('bwr'), vmin=-1, vmax=1)\n",
    "    \n",
    "    ax.yaxis.set_major_formatter(FormatStrFormatter('% 1.0f'))\n",
    "    ax.zaxis.set_major_formatter(FormatStrFormatter('% 1.1f'))\n",
    "    ax.view_init(ax.elev, -120)\n",
    "    \n",
    "    #Colour bar:\n",
    "    fig.subplots_adjust(right=0.8)\n",
    "    cbar_ax = fig.add_axes([0.85, 0.35, 0.01, 0.5])\n",
    "    fig.colorbar(surface_1,shrink=0.2, aspect=15, cax=cbar_ax)\n",
    "    \n",
    "    return ax"
   ]
  },
  {
   "cell_type": "markdown",
   "id": "2e3ce657-0f3b-4d72-8397-f8423010cce6",
   "metadata": {},
   "source": [
    "#### Policy:"
   ]
  },
  {
   "cell_type": "code",
   "execution_count": 8,
   "id": "0c47f571-c7dc-4284-9e3e-387ed9ddbf2e",
   "metadata": {
    "tags": []
   },
   "outputs": [],
   "source": [
    "def plot_policy(table, title):\n",
    "    \"\"\"\n",
    "    table: matrix containing action indexes (it must have n-1 dimensions with respect to the agent's Q-table)\n",
    "    title: str. A title for the plot\n",
    "    \n",
    "    returns: the plot container instance\n",
    "    \"\"\"\n",
    "    #tick label transformer (used for the colour bar):\n",
    "    def format_tick(x, pos):\n",
    "        if x == 0:\n",
    "            return '{0}-STAND'.format(str(x))\n",
    "        elif x == 1:\n",
    "            return '{0}-HIT'.format(str(x))\n",
    "    \n",
    "    X = np.arange(-.5,9.5,1)\n",
    "    Y = np.arange(0.5, 11.5,1)\n",
    "    \n",
    "    fig = plt.figure(figsize=(20,10))\n",
    "    fig.suptitle(t=title, fontsize=16, x=0.5, y=1.05)\n",
    "    \n",
    "    common_style_dict = {'xlim': (-.5, 9.5),\n",
    "                        'xticks': X,\n",
    "                        'xticklabels': ['{:.0f}'.format(value) for value in range(2,11,1)] + ['A'],\n",
    "                        'xlabel': 'Dealer\\'s Card',\n",
    "                        'yticks': Y,\n",
    "                        'yticklabels': np.arange(11,22,1),\n",
    "                        'ylabel': 'Player\\'s Total'\n",
    "                        }\n",
    "    #I only plot those states wherein there is risk of going bust after hitting once more and, for the sake of symmetry,\n",
    "    #I manually modify those non-existing usable-ace-related states:\n",
    "    table[:8,:,1] = 1\n",
    "    \n",
    "    #Not usable ace-related states:\n",
    "    ax = fig.add_subplot(1,2,1, title='No usable Ace', **common_style_dict)\n",
    "    im = ax.imshow(table[7:18,:10,0], cmap=plt.get_cmap('bwr'), vmin=0, vmax=1, alpha=0.5)\n",
    "    ax.invert_yaxis()\n",
    "    ax.grid(True,color='w', linestyle='-', linewidth=1, axis='both')\n",
    "    ##Little tweak for tick labels' position:\n",
    "    for label in ax.get_xticklabels():\n",
    "        label.set_horizontalalignment('left')\n",
    "\n",
    "    for label in ax.get_yticklabels():\n",
    "        label.set_verticalalignment('top')\n",
    "    \n",
    "    #Usable ace-related states:\n",
    "    ax = fig.add_subplot(1,2,2, title=' Usable Ace', **common_style_dict)\n",
    "    ax.imshow(table[7:18,:10,1],cmap=plt.get_cmap('bwr'), vmin=0, vmax=1, alpha=0.5)\n",
    "    ax.invert_yaxis()\n",
    "    ax.grid(True,color='w', linestyle='-', linewidth=1, axis='both')\n",
    "    ##Little tweak for tick labels' position:\n",
    "    for label in ax.get_xticklabels():\n",
    "        label.set_horizontalalignment('left')\n",
    "    \n",
    "    #Colour bar definition\n",
    "    fig.subplots_adjust(right=0.8)\n",
    "    original_cmap = plt.get_cmap('bwr')\n",
    "    \n",
    "    #Converting a multiple-colour cmap into 2-colour cmap\n",
    "    cmap = ListedColormap([original_cmap(0), original_cmap(original_cmap.N)])\n",
    "    bounds = [0, 0.5, 1]\n",
    "    norm = BoundaryNorm(bounds, original_cmap.N)    \n",
    "    cbar_ax = fig.add_axes([0.85, 0.05, 0.01, 0.85])\n",
    "    \n",
    "    fig.colorbar(cm.ScalarMappable(cmap=cmap, norm=norm),\n",
    "                 shrink=0.2,\n",
    "                 aspect=15,\n",
    "                 cax=cbar_ax,\n",
    "                 boundaries= [0] + bounds + [2],  \n",
    "                 extend='both',\n",
    "                 ticks=[0,1],\n",
    "                 format = FuncFormatter(format_tick),\n",
    "                 spacing='proportional',\n",
    "                 orientation='vertical',\n",
    "                 alpha= 0.5)\n",
    "    \n",
    "    return ax"
   ]
  },
  {
   "cell_type": "markdown",
   "id": "2c698338-f03e-4dfc-92cb-7b112f10a7b3",
   "metadata": {},
   "source": [
    "----\n",
    "\n",
    "## Experiment Definition:\n",
    "\n",
    "#### Montecarlo method:"
   ]
  },
  {
   "cell_type": "code",
   "execution_count": 9,
   "id": "a1a67a00-921f-40aa-9e47-f49b61471447",
   "metadata": {},
   "outputs": [],
   "source": [
    "def run_experiment(env, agent, episodes, show, save=None, collect_rewards=None, train=True):\n",
    "    \"\"\"\n",
    "    env: instance of the environment to execute.\n",
    "    agent: instance of the agent that will interact with the environment.\n",
    "    show: integer. It indicates how often episodes are printed as text(it helps track the existence of bugs in the game itself).\n",
    "    save: integer. It indicates how often the V/Q-table is permanently persisted as a pickle object. None = no persistence at all.\n",
    "    collect_rewards: It indicates every so many episodes rewards are averaged. 1 = return every reward.\n",
    "    train: bool. If True, the agent learns by updating its V/Q-table; if False, the agent just executes a defined policy.\n",
    "    \n",
    "    returns: a list containing all average rewards computed throughout the whole experiment.\n",
    "    \"\"\"\n",
    "    rewards = []\n",
    "    average_rewards = []\n",
    "    for episode in range(episodes):\n",
    "        if (episode+1) % show ==0:\n",
    "            print('Episode {0}:'.format(episode+1))\n",
    "            env.render()\n",
    "\n",
    "        state, reward, terminal, _ = env.reset()\n",
    "        while not terminal:\n",
    "            action = agent.follow_policy(state)\n",
    "            next_state, reward, terminal, _ = env.step(action)\n",
    "            if train:\n",
    "                agent.evaluate_state(state, reward, terminal, action)   \n",
    "                \n",
    "            state=next_state\n",
    "            \n",
    "        rewards.append(reward)\n",
    "        \n",
    "        if save:\n",
    "            if (episode+1) % save == 0:\n",
    "                agent.save_table()\n",
    "                \n",
    "        if collect_rewards:\n",
    "            if (episode+1) % collect_rewards == 0:\n",
    "                average_reward = sum(rewards[-collect_rewards:])/collect_rewards\n",
    "                average_rewards.append(average_reward)\n",
    "    \n",
    "    return average_rewards"
   ]
  },
  {
   "cell_type": "markdown",
   "id": "840773d1-cece-4574-bc5e-157524eb3292",
   "metadata": {},
   "source": [
    "#### Temporal Difference methods:"
   ]
  },
  {
   "cell_type": "code",
   "execution_count": 10,
   "id": "0db1edf4-6562-414e-9199-b85e0161e2f2",
   "metadata": {},
   "outputs": [],
   "source": [
    "def run_experiment_one_step(env, agent, episodes, show, save=None, collect_rewards=None, train=True):\n",
    "    \"\"\"\n",
    "    environment: instance of the environment to execute.\n",
    "    agent: instance of the agent that will interact with the environment.\n",
    "    show: integer. It indicates how often episodes are printed as text(it helps track the existence of bugs in the game itself).\n",
    "    save: integer. It indicates how often the V/Q-table is permanently persisted as a pickle object. None = no persistence at all.\n",
    "    collect_rewards: It indicates every so many episodes rewards are averaged. 1 = return every reward.\n",
    "    train: bool. If True, the agent learns by updating its V/Q-table; if False, the agent just executes a defined policy.\n",
    "    \n",
    "    returns: a list containing all average rewards computed throughout the whole experiment.\n",
    "    \"\"\"\n",
    "    rewards = []\n",
    "    average_rewards = []\n",
    "    for episode in range(episodes):\n",
    "        if (episode+1) % show ==0:\n",
    "            print('Episode {0}:'.format(episode+1))\n",
    "            env.render()\n",
    "\n",
    "        state, reward, terminal, _ = env.reset()\n",
    "        while not terminal:\n",
    "            action = agent.follow_policy(state)\n",
    "            next_state, reward, terminal, _ = env.step(action)\n",
    "            if train:\n",
    "                agent.evaluate_state(state, reward, terminal, action, next_state)   \n",
    "                \n",
    "            state=next_state\n",
    "            \n",
    "        rewards.append(reward)\n",
    "        \n",
    "        if save:\n",
    "            if (episode+1) % save == 0:\n",
    "                agent.save_table()\n",
    "                \n",
    "        if collect_rewards:\n",
    "            if (episode+1) % collect_rewards == 0:\n",
    "                average_reward = sum(rewards[-collect_rewards:])/collect_rewards\n",
    "                average_rewards.append(average_reward)\n",
    "    \n",
    "    return average_rewards"
   ]
  },
  {
   "cell_type": "code",
   "execution_count": 11,
   "id": "d696888d-2486-4790-b7e1-790b608670aa",
   "metadata": {
    "tags": []
   },
   "outputs": [],
   "source": [
    "def run_experiment_sarsa(env, agent, episodes, show, save=None, collect_rewards=None, train=True):\n",
    "    \"\"\"\n",
    "    environment: instance of the environment to execute.\n",
    "    agent: instance of the agent that will interact with the environment.\n",
    "    show: integer. It indicates how often episodes are printed as text(it helps track the existence of bugs in the game itself).\n",
    "    save: integer. It indicates how often the V/Q-table is permanently persisted as a pickle object. None = no persistence at all.\n",
    "    collect_rewards: It indicates every so many episodes rewards are averaged. 1 = return every reward.\n",
    "    train: bool. If True, the agent learns by updating its V/Q-table; if False, the agent just executes a defined policy.\n",
    "    \n",
    "    returns: a list containing all average rewards computed throughout the whole experiment.\n",
    "    \"\"\"\n",
    "    rewards = []\n",
    "    average_rewards = []\n",
    "    for episode in range(episodes):\n",
    "        if (episode+1) % show ==0:\n",
    "            print('Episode {0}:'.format(episode+1))\n",
    "            env.render()\n",
    "\n",
    "        state, reward, terminal, _ = env.reset()\n",
    "        next_action = None\n",
    "        while not terminal:\n",
    "            if next_action:\n",
    "                action = next_action\n",
    "            else:\n",
    "                action = agent.follow_policy(state)\n",
    "                \n",
    "            next_state, reward, terminal, _ = env.step(action)\n",
    "            if not terminal:\n",
    "                next_action = agent.follow_policy(next_state)\n",
    "            else:\n",
    "                next_action = None\n",
    "                \n",
    "            if train:\n",
    "                agent.evaluate_state(state, reward, terminal, action, next_state, next_action)   \n",
    "            \n",
    "            state=next_state\n",
    "            \n",
    "        rewards.append(reward)\n",
    "        \n",
    "        if save:\n",
    "            if (episode+1) % save == 0:\n",
    "                agent.save_table()\n",
    "                \n",
    "        if collect_rewards:\n",
    "            if (episode+1) % collect_rewards == 0:\n",
    "                average_reward = sum(rewards[-collect_rewards:])/collect_rewards\n",
    "                average_rewards.append(average_reward)\n",
    "    \n",
    "    return average_rewards"
   ]
  },
  {
   "cell_type": "markdown",
   "id": "d7594e9e-c17e-42ad-a33f-d6ee513f01c9",
   "metadata": {},
   "source": [
    "#### Wrapper:"
   ]
  },
  {
   "cell_type": "code",
   "execution_count": 12,
   "id": "f0899466-1b03-4bdd-b83e-f9cceb4755d3",
   "metadata": {},
   "outputs": [],
   "source": [
    "agents_methods = {'MonteCarloPredictor': run_experiment,\n",
    "                  'MontecarloController': run_experiment,\n",
    "                  'OffPolicyMontecarlo': run_experiment,\n",
    "                  'TDLambdaPredictor': run_experiment_one_step,\n",
    "                  'WatkinsLambda': run_experiment_sarsa,\n",
    "                  'Sarsa': run_experiment_sarsa,\n",
    "                  'QLearning': run_experiment_one_step,\n",
    "                  'SarsaLambda': run_experiment_sarsa}"
   ]
  },
  {
   "cell_type": "markdown",
   "id": "23d00935-33e1-4965-a5ff-0c306e94a241",
   "metadata": {},
   "source": [
    "#### Train and test methods:"
   ]
  },
  {
   "cell_type": "code",
   "execution_count": 13,
   "id": "ee3df077-621c-4486-8ba7-a14082507613",
   "metadata": {},
   "outputs": [],
   "source": [
    "#subclass for prediction:\n",
    "class Evaluator(MonteCarloPredictor):\n",
    "    #greedy policy:\n",
    "    def follow_policy(self, observation, *args):\n",
    "        table_look_up = tuple(self.table_look_up(observation))\n",
    "        action = np.argmax(self.table[table_look_up][:])\n",
    "        \n",
    "        return action"
   ]
  },
  {
   "cell_type": "code",
   "execution_count": 14,
   "id": "7b2a9b5d-5777-40a8-9daf-445fab5491c8",
   "metadata": {},
   "outputs": [],
   "source": [
    "def put_q_test(q, agent, episodes, show_every, save_every, collect_every):\n",
    "    \"\"\"\n",
    "    q: Queue from multiprocessing library\n",
    "    \"\"\"\n",
    "    q.put(agents_methods[agent.get_parent_class_str()](env, agent, episodes, show_every, save_every, collect_every, train=False))\n",
    "\n",
    "def get_q(q):\n",
    "    \"\"\"\n",
    "    q: Queue from multiprocessing library\n",
    "    \n",
    "    \"\"\"\n",
    "    return q.get()"
   ]
  },
  {
   "cell_type": "code",
   "execution_count": 15,
   "id": "8e0e559f-10b2-4855-81c4-ca39400ecc0f",
   "metadata": {
    "tags": []
   },
   "outputs": [],
   "source": [
    "def train_and_test(env, agent, test_until, test_every, sample_size=8_000, bootstrap_samples=1_000):\n",
    "    \"\"\"\n",
    "    env: rl environmen instance\n",
    "    agent: control agent instance\n",
    "    test_until: total number of episodes.\n",
    "    test_every: indicates how often evaluation is carried out. The agent's table is also saved then.\n",
    "    sample_size: how many episodes are averaged.\n",
    "    bootstrap_samples: how many samples of sample_size size are produced to determine the metric's CI.\n",
    "    \n",
    "    returns: a dictionary containing results, mean and percentiles for each evaluation\n",
    "    \"\"\"\n",
    "    def test(a):\n",
    "        \"\"\"\n",
    "        Parallelized execution\n",
    "        a: Prediction agent instance\n",
    "        \n",
    "        returns: a dictionary containing the whole list of results,\n",
    "                 the mean, the 2.5th percentile, and the 97.5 percentile.\n",
    "        \"\"\"\n",
    "        rewards = {'results':[]}\n",
    "        queue = mp.Manager().Queue()\n",
    "        cores = mp.cpu_count()\n",
    "    \n",
    "        #I split the whole test amongst the computer's cores:\n",
    "        EPISODES =  sample_size * bootstrap_samples // cores\n",
    "        SHOW_EVERY = 1_000_000\n",
    "        SAVE_EVERY =  None\n",
    "        COLLECT_EVERY = sample_size\n",
    "        \n",
    "        # I enqueue every run\n",
    "        for _ in range(0, cores):\n",
    "            mp.Process(target=put_q_test, args=(queue, a, EPISODES, SHOW_EVERY, SAVE_EVERY, COLLECT_EVERY,)).start()\n",
    "\n",
    "        getter = []  \n",
    "        #I create a pool of workers to handle dequeuing and subsequent execution:\n",
    "        pool = mp.Pool(cores)\n",
    "        for _ in range(0, cores):\n",
    "            getter.append(pool.apply_async(get_q, (queue,)))\n",
    "\n",
    "        #I extract results from every process and attach them to the dictionary:\n",
    "        for r in getter:\n",
    "            rewards['results'].extend(r.get())\n",
    "        \n",
    "        #statistics:\n",
    "        rewards['mean'] = np.array(rewards['results']).mean()\n",
    "        rewards['lower_bound'] = float(np.percentile(np.array(rewards['results']), [2.5]))\n",
    "        rewards['upper_bound'] = float(np.percentile(np.array(rewards['results']), [97.5]))\n",
    "        \n",
    "        return rewards\n",
    "            \n",
    "    summary = {}\n",
    "    for episodes in range(test_every, test_until + 1, test_every):\n",
    "        _ = agents_methods[agent.get_parent_class_str()](env, agent, test_every, 1_000_000, None, 1, True)\n",
    "        #table persistance:\n",
    "        agent.save_table()\n",
    "        #Instanciating a brand new prediction agent for each evaluation:\n",
    "        evaluator = Evaluator(env)\n",
    "        #Copy the Q-table to be tested:\n",
    "        evaluator.table = agent.table.copy()\n",
    "        summary[episodes] = test(evaluator)\n",
    "        \n",
    "    return summary"
   ]
  },
  {
   "cell_type": "markdown",
   "id": "fca9f17c-1ce2-4fbf-9103-eae6897a80b1",
   "metadata": {},
   "source": [
    "----\n",
    "## Defining a baseline:"
   ]
  },
  {
   "cell_type": "code",
   "execution_count": 16,
   "id": "93cda4b0-8427-4f5f-a883-98b9d0626aaf",
   "metadata": {},
   "outputs": [],
   "source": [
    "#create an environment instance:\n",
    "env = environments.make('hitstand')"
   ]
  },
  {
   "cell_type": "code",
   "execution_count": 17,
   "id": "e712162a-b4e2-48c6-830e-313f1d921ff9",
   "metadata": {},
   "outputs": [],
   "source": [
    "class BaseLine(MontecarloController):\n",
    "    \n",
    "    def follow_policy(self, observation, *args):\n",
    "        if observation[0] < 19:\n",
    "            return 0\n",
    "        else:\n",
    "            return 1"
   ]
  },
  {
   "cell_type": "code",
   "execution_count": 24,
   "id": "41dbde66-91e0-460c-96be-ad451bc19d31",
   "metadata": {},
   "outputs": [
    {
     "data": {
      "text/plain": [
       "{'discount_rate': 1,\n",
       " 'learning_rate': None,\n",
       " 'max_episodes': None,\n",
       " 'epsilon_start': 1,\n",
       " 'epsilon_min': 0.05,\n",
       " 'epsilon_decay': 0.995,\n",
       " 'ucb_c': 1}"
      ]
     },
     "execution_count": 24,
     "metadata": {},
     "output_type": "execute_result"
    }
   ],
   "source": [
    "baseline = BaseLine(env)\n",
    "baseline.hyperparams"
   ]
  },
  {
   "cell_type": "code",
   "execution_count": 26,
   "id": "ca5038ec-8113-407c-9225-c8ec60d1c2ca",
   "metadata": {},
   "outputs": [
    {
     "data": {
      "image/png": "[encoded data removed]",
      "text/plain": [
       "<Figure size 1440x720 with 1 Axes>"
      ]
     },
     "metadata": {
      "needs_background": "light"
     },
     "output_type": "display_data"
    }
   ],
   "source": [
    "rewards = agents_methods[baseline.get_parent_class_str()](env, baseline, 8_000_000, 1_000_000, save=None, collect_rewards=8_000, train=True)\n",
    "ax = plot_reward_time_series(range(8_000, 8_000_000+1, 8_000), rewards)\n",
    "ax.set_title(ax.get_title() + ' - ' + baseline.__class__.__name__ + '\\n' + str(baseline.hyperparams));"
   ]
  },
  {
   "cell_type": "code",
   "execution_count": 29,
   "id": "73ff7030-c719-403c-b54d-92c5dd04c48a",
   "metadata": {},
   "outputs": [],
   "source": [
    "baseline.save(baseline.num_executed_episodes)\n",
    "baseline.save_table()"
   ]
  },
  {
   "cell_type": "code",
   "execution_count": 30,
   "id": "6ae7e63f-aee1-48ce-aa0c-1ee38cd32263",
   "metadata": {},
   "outputs": [
    {
     "data": {
      "text/plain": [
       "'bca2c1123c5c40b09e49ad96e1858a85'"
      ]
     },
     "execution_count": 30,
     "metadata": {},
     "output_type": "execute_result"
    }
   ],
   "source": [
    "baseline.id"
   ]
  },
  {
   "cell_type": "code",
   "execution_count": 31,
   "id": "0a0e7415-c1a2-49c8-a8cd-012f8fcc3ada",
   "metadata": {},
   "outputs": [
    {
     "data": {
      "text/plain": [
       "count    1000.000000\n",
       "mean       -0.369432\n",
       "std         0.010568\n",
       "min        -0.403313\n",
       "25%        -0.377141\n",
       "50%        -0.369875\n",
       "75%        -0.362172\n",
       "max        -0.338625\n",
       "dtype: float64"
      ]
     },
     "execution_count": 31,
     "metadata": {},
     "output_type": "execute_result"
    }
   ],
   "source": [
    "runs = pd.Series(rewards, index=range(8_000, 8_000_000+1, 8_000))\n",
    "runs.describe()"
   ]
  },
  {
   "cell_type": "code",
   "execution_count": 32,
   "id": "de12f5f5-4166-4b42-9b1e-2e1328a66372",
   "metadata": {},
   "outputs": [
    {
     "data": {
      "image/png": "[encoded data removed]",
      "text/plain": [
       "<Figure size 1440x720 with 2 Axes>"
      ]
     },
     "metadata": {
      "needs_background": "light"
     },
     "output_type": "display_data"
    }
   ],
   "source": [
    "plot_density(runs);"
   ]
  },
  {
   "cell_type": "code",
   "execution_count": 35,
   "id": "a30a7db1-9b8c-412e-ae46-cc508ca64c34",
   "metadata": {},
   "outputs": [
    {
     "data": {
      "text/plain": [
       "(-0.388525, -0.3494984375)"
      ]
     },
     "execution_count": 35,
     "metadata": {},
     "output_type": "execute_result"
    }
   ],
   "source": [
    "np.percentile(np.array(rewards), 2.5), np.percentile(np.array(rewards), 97.5)"
   ]
  },
  {
   "cell_type": "code",
   "execution_count": 37,
   "id": "219133e4-9147-4381-9b49-c9af2afe9aea",
   "metadata": {},
   "outputs": [],
   "source": [
    "#Plot V-function"
   ]
  }
 ],
 "metadata": {
  "kernelspec": {
   "display_name": "Python 3",
   "language": "python",
   "name": "python3"
  },
  "language_info": {
   "codemirror_mode": {
    "name": "ipython",
    "version": 3
   },
   "file_extension": ".py",
   "mimetype": "text/x-python",
   "name": "python",
   "nbconvert_exporter": "python",
   "pygments_lexer": "ipython3",
   "version": "3.9.2"
  }
 },
 "nbformat": 4,
 "nbformat_minor": 5
}
